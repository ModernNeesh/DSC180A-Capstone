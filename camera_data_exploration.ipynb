{
 "cells": [
  {
   "cell_type": "code",
   "execution_count": 1,
   "id": "ee18ce56",
   "metadata": {},
   "outputs": [
    {
     "name": "stderr",
     "output_type": "stream",
     "text": [
      "c:\\Users\\Aneesh\\anaconda3\\envs\\vision_models\\Lib\\site-packages\\tqdm\\auto.py:21: TqdmWarning: IProgress not found. Please update jupyter and ipywidgets. See https://ipywidgets.readthedocs.io/en/stable/user_install.html\n",
      "  from .autonotebook import tqdm as notebook_tqdm\n"
     ]
    }
   ],
   "source": [
    "#Importing packages\n",
    "from transformers import ViTModel, ViTImageProcessor\n",
    "import torch\n",
    "from torch.utils.data import Dataset\n",
    "import pandas as pd\n",
    "from torch.utils.data import DataLoader\n",
    "from torchvision import transforms\n",
    "from PIL import Image\n",
    "import torch.nn as nn\n",
    "import torch.optim as optim \n",
    "from pytorch_metric_learning.losses import TripletMarginLoss\n",
    "from pytorch_metric_learning.miners import TripletMarginMiner\n",
    "from tqdm import tqdm\n",
    "import time "
   ]
  },
  {
   "cell_type": "code",
   "execution_count": 2,
   "id": "8943a777",
   "metadata": {},
   "outputs": [
    {
     "name": "stderr",
     "output_type": "stream",
     "text": [
      "Some weights of ViTModel were not initialized from the model checkpoint at google/vit-base-patch16-224 and are newly initialized: ['pooler.dense.bias', 'pooler.dense.weight']\n",
      "You should probably TRAIN this model on a down-stream task to be able to use it for predictions and inference.\n"
     ]
    }
   ],
   "source": [
    "# Importing the model and setting the device. Using a ViT model since transformer architecture is generally pretty powerful when it comes to extracting features from data.\n",
    "model_name = \"google/vit-base-patch16-224\"\n",
    "vit = ViTModel.from_pretrained(model_name, torch_dtype=torch.float32)\n",
    "device = \"cuda\" #Change to cpu if you aren't using a GPU"
   ]
  },
  {
   "cell_type": "code",
   "execution_count": 3,
   "id": "4c06ce20",
   "metadata": {},
   "outputs": [],
   "source": [
    "#Creating a new model class that is essentially just the ViT model minus the classification head. This will get us our features.\n",
    "class ViTEmbeddingNet(nn.Module):\n",
    "    def __init__(self, vit_model):\n",
    "        super().__init__()\n",
    "        self.vit = vit_model\n",
    "\n",
    "    def forward(self, x):\n",
    "        outputs = self.vit(x)\n",
    "        # Use [CLS] token (first token in the sequence) as embedding\n",
    "        return outputs.last_hidden_state[:, 0]"
   ]
  },
  {
   "cell_type": "code",
   "execution_count": 4,
   "id": "6c6a09f4",
   "metadata": {},
   "outputs": [
    {
     "data": {
      "text/html": [
       "<div>\n",
       "<style scoped>\n",
       "    .dataframe tbody tr th:only-of-type {\n",
       "        vertical-align: middle;\n",
       "    }\n",
       "\n",
       "    .dataframe tbody tr th {\n",
       "        vertical-align: top;\n",
       "    }\n",
       "\n",
       "    .dataframe thead th {\n",
       "        text-align: right;\n",
       "    }\n",
       "</style>\n",
       "<table border=\"1\" class=\"dataframe\">\n",
       "  <thead>\n",
       "    <tr style=\"text-align: right;\">\n",
       "      <th></th>\n",
       "      <th>choice</th>\n",
       "      <th>image</th>\n",
       "    </tr>\n",
       "  </thead>\n",
       "  <tbody>\n",
       "    <tr>\n",
       "      <th>0</th>\n",
       "      <td>1</td>\n",
       "      <td>https://tools.alertcalifornia.org/fireframes5/...</td>\n",
       "    </tr>\n",
       "    <tr>\n",
       "      <th>1</th>\n",
       "      <td>0</td>\n",
       "      <td>https://tools.alertcalifornia.org/fireframes5/...</td>\n",
       "    </tr>\n",
       "    <tr>\n",
       "      <th>2</th>\n",
       "      <td>0</td>\n",
       "      <td>https://tools.alertcalifornia.org/fireframes5/...</td>\n",
       "    </tr>\n",
       "    <tr>\n",
       "      <th>3</th>\n",
       "      <td>0</td>\n",
       "      <td>https://tools.alertcalifornia.org/fireframes5/...</td>\n",
       "    </tr>\n",
       "    <tr>\n",
       "      <th>4</th>\n",
       "      <td>0</td>\n",
       "      <td>https://tools.alertcalifornia.org/fireframes5/...</td>\n",
       "    </tr>\n",
       "  </tbody>\n",
       "</table>\n",
       "</div>"
      ],
      "text/plain": [
       "   choice                                              image\n",
       "0       1  https://tools.alertcalifornia.org/fireframes5/...\n",
       "1       0  https://tools.alertcalifornia.org/fireframes5/...\n",
       "2       0  https://tools.alertcalifornia.org/fireframes5/...\n",
       "3       0  https://tools.alertcalifornia.org/fireframes5/...\n",
       "4       0  https://tools.alertcalifornia.org/fireframes5/..."
      ]
     },
     "execution_count": 4,
     "metadata": {},
     "output_type": "execute_result"
    }
   ],
   "source": [
    "data = pd.read_csv(\"camera_data/coronado_hills_binary_10-18-25.csv\")\n",
    "data = data.get([\"choice\", \"image\"]).fillna(0)\n",
    "\n",
    "data[\"choice\"] = data[\"choice\"].apply(lambda x: 0 if x == 0 else 1)\n",
    "data.head()"
   ]
  },
  {
   "cell_type": "code",
   "execution_count": 5,
   "id": "64ce85d9",
   "metadata": {},
   "outputs": [],
   "source": [
    "import urllib.request\n",
    "import os\n",
    "\n",
    "if len(os.listdir(\"camera_data/images\")) == 0:\n",
    "    for i in range(3890, len(data)):\n",
    "        img_path = f\"camera_data/images/img_{i}.jpg\"\n",
    "        urllib.request.urlretrieve(data.iloc[i]['image'], img_path)"
   ]
  },
  {
   "cell_type": "code",
   "execution_count": 6,
   "id": "d033dd83",
   "metadata": {},
   "outputs": [],
   "source": [
    "img_names = [f\"camera_data/images/img_{i}.jpg\" for i in range(len(data))]\n",
    "\n",
    "data[\"img_path\"] = img_names"
   ]
  },
  {
   "cell_type": "code",
   "execution_count": 7,
   "id": "469928cd",
   "metadata": {},
   "outputs": [],
   "source": [
    "#Defining a dataset class to import the images. We resize them to 224 by 224 since that's what the model expects, but make no other transformations.\n",
    "\n",
    "transform = transforms.Compose([\n",
    "    transforms.Resize((224, 224)),\n",
    "    transforms.ToTensor(),  # Converts PIL to Tensor\n",
    "])\n",
    "\n",
    "class CustomImageDataset(Dataset):\n",
    "    def __init__(self, data_df, transform = None):\n",
    "        self.data = data_df\n",
    "        self.transform = transform\n",
    "\n",
    "    def __len__(self):\n",
    "        return len(self.data)\n",
    "\n",
    "    def __getitem__(self, idx):\n",
    "        image_path = self.data.iloc[idx, 2]\n",
    "        label = int(self.data.iloc[idx, 0])\n",
    "    \n",
    "        image = Image.open(image_path).convert('RGB')\n",
    "        \n",
    "        if self.transform:\n",
    "            image = self.transform(image)\n",
    "        \n",
    "        return image, label"
   ]
  },
  {
   "cell_type": "code",
   "execution_count": 8,
   "id": "19ef237b",
   "metadata": {},
   "outputs": [],
   "source": [
    "#Creating the dataset and loading it into batches with the DataLoader class\n",
    "dataset = CustomImageDataset(data, transform=transform)\n",
    "dataloader = DataLoader(dataset, batch_size=64, shuffle=True, pin_memory=True)"
   ]
  },
  {
   "cell_type": "code",
   "execution_count": 9,
   "id": "296472bf",
   "metadata": {},
   "outputs": [
    {
     "data": {
      "text/plain": [
       "ViTEmbeddingNet(\n",
       "  (vit): ViTModel(\n",
       "    (embeddings): ViTEmbeddings(\n",
       "      (patch_embeddings): ViTPatchEmbeddings(\n",
       "        (projection): Conv2d(3, 768, kernel_size=(16, 16), stride=(16, 16))\n",
       "      )\n",
       "      (dropout): Dropout(p=0.0, inplace=False)\n",
       "    )\n",
       "    (encoder): ViTEncoder(\n",
       "      (layer): ModuleList(\n",
       "        (0-11): 12 x ViTLayer(\n",
       "          (attention): ViTAttention(\n",
       "            (attention): ViTSelfAttention(\n",
       "              (query): Linear(in_features=768, out_features=768, bias=True)\n",
       "              (key): Linear(in_features=768, out_features=768, bias=True)\n",
       "              (value): Linear(in_features=768, out_features=768, bias=True)\n",
       "            )\n",
       "            (output): ViTSelfOutput(\n",
       "              (dense): Linear(in_features=768, out_features=768, bias=True)\n",
       "              (dropout): Dropout(p=0.0, inplace=False)\n",
       "            )\n",
       "          )\n",
       "          (intermediate): ViTIntermediate(\n",
       "            (dense): Linear(in_features=768, out_features=3072, bias=True)\n",
       "            (intermediate_act_fn): GELUActivation()\n",
       "          )\n",
       "          (output): ViTOutput(\n",
       "            (dense): Linear(in_features=3072, out_features=768, bias=True)\n",
       "            (dropout): Dropout(p=0.0, inplace=False)\n",
       "          )\n",
       "          (layernorm_before): LayerNorm((768,), eps=1e-12, elementwise_affine=True)\n",
       "          (layernorm_after): LayerNorm((768,), eps=1e-12, elementwise_affine=True)\n",
       "        )\n",
       "      )\n",
       "    )\n",
       "    (layernorm): LayerNorm((768,), eps=1e-12, elementwise_affine=True)\n",
       "    (pooler): ViTPooler(\n",
       "      (dense): Linear(in_features=768, out_features=768, bias=True)\n",
       "      (activation): Tanh()\n",
       "    )\n",
       "  )\n",
       ")"
      ]
     },
     "execution_count": 9,
     "metadata": {},
     "output_type": "execute_result"
    }
   ],
   "source": [
    "#Instatiating encoder and loading it to chosen device\n",
    "encoder = ViTEmbeddingNet(vit)\n",
    "\n",
    "encoder.to(device) "
   ]
  },
  {
   "cell_type": "code",
   "execution_count": 10,
   "id": "143e01ae",
   "metadata": {},
   "outputs": [],
   "source": [
    "#Defining optimizer, loss function, and what kind of mining to use for triplets\n",
    "optimizer = optim.Adam(encoder.parameters(), lr=1e-5)  # Smaller LR for pretrained models\n",
    "loss_func = TripletMarginLoss(margin=0.18)\n",
    "miner = TripletMarginMiner(margin=0.18, type_of_triplets=\"semihard\")"
   ]
  },
  {
   "cell_type": "code",
   "execution_count": 11,
   "id": "2cb7aad3",
   "metadata": {},
   "outputs": [
    {
     "name": "stderr",
     "output_type": "stream",
     "text": [
      "  1%|▏         | 1/67 [00:05<05:42,  5.19s/it]"
     ]
    },
    {
     "name": "stdout",
     "output_type": "stream",
     "text": [
      "Time at iteration 0: 0.09 minutes\n",
      "Loss: 0.10541870445013046\n"
     ]
    },
    {
     "name": "stderr",
     "output_type": "stream",
     "text": [
      " 16%|█▋        | 11/67 [00:56<04:43,  5.07s/it]"
     ]
    },
    {
     "name": "stdout",
     "output_type": "stream",
     "text": [
      "Time at iteration 10: 0.93 minutes\n",
      "Loss: 0.09654197841882706\n"
     ]
    },
    {
     "name": "stderr",
     "output_type": "stream",
     "text": [
      " 31%|███▏      | 21/67 [01:49<04:16,  5.58s/it]"
     ]
    },
    {
     "name": "stdout",
     "output_type": "stream",
     "text": [
      "Time at iteration 20: 1.82 minutes\n",
      "Loss: 0.09239859879016876\n"
     ]
    },
    {
     "name": "stderr",
     "output_type": "stream",
     "text": [
      " 45%|████▍     | 30/67 [02:40<03:29,  5.67s/it]"
     ]
    },
    {
     "name": "stdout",
     "output_type": "stream",
     "text": [
      "Time at iteration 30: 2.76 minutes\n"
     ]
    },
    {
     "name": "stderr",
     "output_type": "stream",
     "text": [
      " 46%|████▋     | 31/67 [02:46<03:26,  5.72s/it]"
     ]
    },
    {
     "name": "stdout",
     "output_type": "stream",
     "text": [
      "Loss: 0.09797517955303192\n"
     ]
    },
    {
     "name": "stderr",
     "output_type": "stream",
     "text": [
      " 60%|█████▉    | 40/67 [03:34<02:28,  5.51s/it]"
     ]
    },
    {
     "name": "stdout",
     "output_type": "stream",
     "text": [
      "Time at iteration 40: 3.67 minutes\n"
     ]
    },
    {
     "name": "stderr",
     "output_type": "stream",
     "text": [
      " 61%|██████    | 41/67 [03:40<02:26,  5.64s/it]"
     ]
    },
    {
     "name": "stdout",
     "output_type": "stream",
     "text": [
      "Loss: 0.09863054752349854\n"
     ]
    },
    {
     "name": "stderr",
     "output_type": "stream",
     "text": [
      " 76%|███████▌  | 51/67 [04:41<01:37,  6.07s/it]"
     ]
    },
    {
     "name": "stdout",
     "output_type": "stream",
     "text": [
      "Time at iteration 50: 4.69 minutes\n",
      "Loss: 0.08528298884630203\n"
     ]
    },
    {
     "name": "stderr",
     "output_type": "stream",
     "text": [
      " 91%|█████████ | 61/67 [05:38<00:35,  5.86s/it]"
     ]
    },
    {
     "name": "stdout",
     "output_type": "stream",
     "text": [
      "Time at iteration 60: 5.63 minutes\n",
      "Loss: 0.08535441756248474\n"
     ]
    },
    {
     "name": "stderr",
     "output_type": "stream",
     "text": [
      "100%|██████████| 67/67 [06:07<00:00,  5.49s/it]\n"
     ]
    }
   ],
   "source": [
    "#This is where we would train the model (it's commented out because it takes about ~1.5 hours to run each time), just loading the weights here instead\n",
    "\n",
    "\n",
    "start = time.time()\n",
    "i = 0\n",
    "for images, labels in tqdm(dataloader):\n",
    "\n",
    "    images = images.to(device)\n",
    "    labels = labels.to(device)\n",
    "\n",
    "    embeddings = encoder(images)\n",
    "\n",
    "    # Use miner to find triplets from labels + embeddings\n",
    "    mined_triplets = miner(embeddings, labels)\n",
    "\n",
    "    # Pass embeddings, labels, and mined triplets\n",
    "    loss = loss_func(embeddings, labels, mined_triplets)\n",
    "\n",
    "    optimizer.zero_grad()\n",
    "    loss.backward()\n",
    "    optimizer.step()\n",
    "\n",
    "    if i%10 == 0:\n",
    "        mid = time.time()\n",
    "        print(f\"Time at iteration {i}: {(mid - start)/60:.2f} minutes\")\n",
    "        print(f\"Loss: {loss.item()}\")\n",
    "    i += 1\n",
    "\n",
    "\n",
    "#encoder.load_state_dict(torch.load('model_weights.pth', weights_only=True))\n",
    "#encoder.eval()"
   ]
  },
  {
   "cell_type": "code",
   "execution_count": 12,
   "id": "52adabfc",
   "metadata": {},
   "outputs": [],
   "source": [
    "torch.save(encoder.state_dict(), 'model_weights_camera_10-18-25.pth')"
   ]
  },
  {
   "cell_type": "code",
   "execution_count": 13,
   "id": "47c699f0",
   "metadata": {},
   "outputs": [],
   "source": [
    "#Get embeddings of the first batch of data\n",
    "images, labels = next(iter(dataloader))\n",
    "\n",
    "images = images.to(device)\n",
    "\n",
    "embedding = encoder(images)"
   ]
  },
  {
   "cell_type": "code",
   "execution_count": 14,
   "id": "733de9bd",
   "metadata": {},
   "outputs": [],
   "source": [
    "#Use PCA to reduce data to two dimensions so that we can visualize them \n",
    "from sklearn.decomposition import PCA\n",
    "\n",
    "pca_model = PCA(n_components=2)\n",
    "\n",
    "reduced_embedding = pca_model.fit_transform(embedding.to(\"cpu\").detach().numpy())"
   ]
  },
  {
   "cell_type": "code",
   "execution_count": 15,
   "id": "357016a0",
   "metadata": {},
   "outputs": [],
   "source": [
    "labels_np = labels.detach().numpy()"
   ]
  },
  {
   "cell_type": "code",
   "execution_count": 16,
   "id": "1317a6ac",
   "metadata": {},
   "outputs": [
    {
     "data": {
      "text/plain": [
       "{0: 41, 1: 23, 2: 0, 3: 0, 4: 0, 5: 0}"
      ]
     },
     "execution_count": 16,
     "metadata": {},
     "output_type": "execute_result"
    }
   ],
   "source": [
    "#Checking to see how many images there are from each class\n",
    "import numpy as np\n",
    "\n",
    "count = {}\n",
    "\n",
    "for i in range(6):\n",
    "    count[i] = reduced_embedding[np.argwhere(labels_np == i)].shape[0]\n",
    "\n",
    "count"
   ]
  },
  {
   "cell_type": "code",
   "execution_count": 17,
   "id": "5746f902",
   "metadata": {},
   "outputs": [
    {
     "name": "stdout",
     "output_type": "stream",
     "text": [
      "Number of green points: 41\n",
      "Number of red points: 23\n"
     ]
    },
    {
     "data": {
      "image/png": "[encoded data removed]",
      "text/plain": [
       "<Figure size 800x600 with 1 Axes>"
      ]
     },
     "metadata": {},
     "output_type": "display_data"
    }
   ],
   "source": [
    "#Plotting the data\n",
    "import matplotlib.pyplot as plt\n",
    "\n",
    "colors = {0 : \"green\",\n",
    "          1 : \"red\",}\n",
    "\n",
    "names = {0 : \"Normal\",\n",
    "         1 : \"Abnormal\"}\n",
    "\n",
    "plt.figure(figsize=(8, 6))\n",
    "\n",
    "# Plot each label's data with a specific color\n",
    "for label in np.unique(labels_np):\n",
    "    data = reduced_embedding[np.argwhere(labels_np == label)].squeeze()\n",
    "    print(f\"Number of {colors[label]} points: {data.shape[0]}\")\n",
    "    plt.scatter(data[:, 0], data[:, 1], color=colors[label], label=names[label])\n",
    "\n",
    "plt.xlabel('X-axis')\n",
    "plt.ylabel('Y-axis')\n",
    "plt.title('Scatter Plot with Different Colors per Label')\n",
    "plt.legend() # Display the legend\n",
    "plt.grid(True)\n",
    "plt.show()"
   ]
  },
  {
   "cell_type": "code",
   "execution_count": 18,
   "id": "a1d67a29",
   "metadata": {},
   "outputs": [
    {
     "ename": "SyntaxError",
     "evalue": "incomplete input (149104261.py, line 1)",
     "output_type": "error",
     "traceback": [
      "  \u001b[36mCell\u001b[39m\u001b[36m \u001b[39m\u001b[32mIn[18]\u001b[39m\u001b[32m, line 1\u001b[39m\n\u001b[31m    \u001b[39m\u001b[31mprint(\u001b[39m\n          ^\n\u001b[31mSyntaxError\u001b[39m\u001b[31m:\u001b[39m incomplete input\n"
     ]
    }
   ],
   "source": [
    "print("
   ]
  },
  {
   "cell_type": "code",
   "execution_count": null,
   "id": "0744c8ae",
   "metadata": {},
   "outputs": [
    {
     "name": "stdout",
     "output_type": "stream",
     "text": [
      "Printing 0th slice:\n"
     ]
    }
   ],
   "source": [
    "\n",
    "#Doing the same thing but aggregating across three batches. Sometimes this just doesn't work; feel free to skip it. I was just curious\n",
    "import itertools\n",
    "\n",
    "embeddings = None\n",
    "labels_all = None\n",
    "\n",
    "for i in range(3):\n",
    "    print(f\"Printing {i}th slice:\")    \n",
    "    images, labels = next(itertools.islice(dataloader, i, None))\n",
    "\n",
    "    images = images.to(device)\n",
    "\n",
    "    embedding = encoder(images)\n",
    "\n",
    "    if embeddings is None:\n",
    "        embeddings = embedding\n",
    "    else:\n",
    "        embeddings = torch.cat((embeddings, embedding), dim = 0)\n",
    "\n",
    "    if labels_all is None:\n",
    "        labels_all = labels\n",
    "    else:\n",
    "        labels_all = torch.cat((labels_all, labels), dim = 0)\n",
    "\n",
    "print(embeddings.shape)"
   ]
  },
  {
   "cell_type": "code",
   "execution_count": null,
   "id": "dd07a211",
   "metadata": {},
   "outputs": [],
   "source": [
    "pca_all = PCA(n_components=2)\n",
    "\n",
    "reduced_embeddings = pca_all.fit_transform(embeddings.to(\"cpu\").detach().numpy())"
   ]
  },
  {
   "cell_type": "code",
   "execution_count": null,
   "id": "42fecc77",
   "metadata": {},
   "outputs": [],
   "source": [
    "labels_np_all = labels_all.detach().numpy()"
   ]
  },
  {
   "cell_type": "code",
   "execution_count": null,
   "id": "6ac098cf",
   "metadata": {},
   "outputs": [
    {
     "data": {
      "text/plain": [
       "{0: 34, 1: 31, 2: 34, 3: 31, 4: 36, 5: 26}"
      ]
     },
     "execution_count": 18,
     "metadata": {},
     "output_type": "execute_result"
    }
   ],
   "source": [
    "count_all = {}\n",
    "\n",
    "for i in range(6):\n",
    "    count_all[i] = reduced_embeddings[np.argwhere(labels_np_all == i)].shape[0]\n",
    "\n",
    "count_all"
   ]
  },
  {
   "cell_type": "code",
   "execution_count": null,
   "id": "be2eda3a",
   "metadata": {},
   "outputs": [
    {
     "name": "stdout",
     "output_type": "stream",
     "text": [
      "Number of red points: 34\n",
      "Number of green points: 31\n",
      "Number of blue points: 34\n",
      "Number of orange points: 31\n",
      "Number of yellow points: 36\n",
      "Number of purple points: 26\n"
     ]
    },
    {
     "data": {
      "image/png": "[encoded data removed]",
      "text/plain": [
       "<Figure size 800x600 with 1 Axes>"
      ]
     },
     "metadata": {},
     "output_type": "display_data"
    }
   ],
   "source": [
    "plt.figure(figsize=(8, 6))\n",
    "\n",
    "# Plot each label's data with a specific color\n",
    "for label in np.unique(labels_np_all):\n",
    "    data = reduced_embeddings[np.argwhere(labels_np_all == label)].squeeze()\n",
    "    print(f\"Number of {colors[label]} points: {data.shape[0]}\")\n",
    "    plt.scatter(data[:, 0], data[:, 1], color=colors[label], label=names[label])\n",
    "\n",
    "plt.xlabel('X-axis')\n",
    "plt.ylabel('Y-axis')\n",
    "plt.title('Scatter Plot with Different Colors per Label')\n",
    "plt.legend() # Display the legend\n",
    "plt.grid(True)\n",
    "plt.show()"
   ]
  },
  {
   "cell_type": "code",
   "execution_count": null,
   "id": "436c2fef",
   "metadata": {},
   "outputs": [],
   "source": [
    "images_list = pd.read_csv(\"scene_data/train-scene classification/train.csv\")\n",
    "\n",
    "images_dir = \"scene_data/train-scene classification/train/\""
   ]
  },
  {
   "cell_type": "code",
   "execution_count": null,
   "id": "b9da15d0",
   "metadata": {},
   "outputs": [],
   "source": [
    "image_path = images_list[images_list['label'] == 4].sample(1)['image_name'].iloc[0]\n",
    "\n",
    "image = Image.open(images_dir + image_path).convert('RGB').resize((300,300))"
   ]
  },
  {
   "cell_type": "code",
   "execution_count": null,
   "id": "953c4137",
   "metadata": {},
   "outputs": [],
   "source": []
  }
 ],
 "metadata": {
  "kernelspec": {
   "display_name": "vision_models",
   "language": "python",
   "name": "python3"
  },
  "language_info": {
   "codemirror_mode": {
    "name": "ipython",
    "version": 3
   },
   "file_extension": ".py",
   "mimetype": "text/x-python",
   "name": "python",
   "nbconvert_exporter": "python",
   "pygments_lexer": "ipython3",
   "version": "3.12.11"
  }
 },
 "nbformat": 4,
 "nbformat_minor": 5
}
