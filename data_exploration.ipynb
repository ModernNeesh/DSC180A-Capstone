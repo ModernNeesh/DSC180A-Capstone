{
 "cells": [
  {
   "cell_type": "code",
   "execution_count": null,
   "id": "ee18ce56",
   "metadata": {},
   "outputs": [
    {
     "name": "stderr",
     "output_type": "stream",
     "text": [
      "c:\\Users\\Aneesh\\anaconda3\\envs\\vision_models\\Lib\\site-packages\\tqdm\\auto.py:21: TqdmWarning: IProgress not found. Please update jupyter and ipywidgets. See https://ipywidgets.readthedocs.io/en/stable/user_install.html\n",
      "  from .autonotebook import tqdm as notebook_tqdm\n"
     ]
    }
   ],
   "source": [
    "#Importing packages\n",
    "from transformers import ViTModel, ViTImageProcessor\n",
    "import torch\n",
    "from torch.utils.data import Dataset\n",
    "import pandas as pd\n",
    "from torch.utils.data import DataLoader\n",
    "from torchvision import transforms\n",
    "from PIL import Image\n",
    "import torch.nn as nn\n",
    "import torch.optim as optim \n",
    "from pytorch_metric_learning.losses import TripletMarginLoss\n",
    "from pytorch_metric_learning.miners import TripletMarginMiner\n",
    "from tqdm import tqdm"
   ]
  },
  {
   "cell_type": "code",
   "execution_count": null,
   "id": "8943a777",
   "metadata": {},
   "outputs": [
    {
     "name": "stderr",
     "output_type": "stream",
     "text": [
      "Some weights of ViTModel were not initialized from the model checkpoint at google/vit-base-patch16-224 and are newly initialized: ['pooler.dense.bias', 'pooler.dense.weight']\n",
      "You should probably TRAIN this model on a down-stream task to be able to use it for predictions and inference.\n"
     ]
    }
   ],
   "source": [
    "# Importing the model and setting the device. Using a ViT model since transformer architecture is generally pretty powerful when it comes to extracting features from data.\n",
    "model_name = \"google/vit-base-patch16-224\"\n",
    "vit = ViTModel.from_pretrained(model_name, torch_dtype=torch.float32)\n",
    "device = \"cuda\" #Change to cpu if you aren't using a GPU"
   ]
  },
  {
   "cell_type": "code",
   "execution_count": null,
   "id": "4c06ce20",
   "metadata": {},
   "outputs": [],
   "source": [
    "#Creating a new model class that is essentially just the ViT model minus the classification head. This will get us our features.\n",
    "class ViTEmbeddingNet(nn.Module):\n",
    "    def __init__(self, vit_model):\n",
    "        super().__init__()\n",
    "        self.vit = vit_model\n",
    "\n",
    "    def forward(self, x):\n",
    "        outputs = self.vit(x)\n",
    "        # Use [CLS] token (first token in the sequence) as embedding\n",
    "        return outputs.last_hidden_state[:, 0]"
   ]
  },
  {
   "cell_type": "code",
   "execution_count": null,
   "id": "469928cd",
   "metadata": {},
   "outputs": [],
   "source": [
    "#Defining a dataset class to import the images. We resize them to 224 by 224 since that's what the model expects, but make no other transformations.\n",
    "\n",
    "transform = transforms.Compose([\n",
    "    transforms.Resize((224, 224)),\n",
    "    transforms.ToTensor(),  # Converts PIL to Tensor\n",
    "])\n",
    "\n",
    "class CustomImageDataset(Dataset):\n",
    "    def __init__(self, csv_file, transform = None):\n",
    "        self.data = pd.read_csv(csv_file)\n",
    "        self.images_dir = \"scene_data/train-scene classification/train/\"\n",
    "        self.transform = transform\n",
    "\n",
    "    def __len__(self):\n",
    "        return len(self.data)\n",
    "\n",
    "    def __getitem__(self, idx):\n",
    "        image_path = self.images_dir + self.data.iloc[idx, 0]\n",
    "        label = int(self.data.iloc[idx, 1])\n",
    "        \n",
    "        image = Image.open(image_path).convert('RGB')\n",
    "        \n",
    "        if self.transform:\n",
    "            image = self.transform(image)\n",
    "        \n",
    "        return image, label"
   ]
  },
  {
   "cell_type": "code",
   "execution_count": null,
   "id": "19ef237b",
   "metadata": {},
   "outputs": [],
   "source": [
    "#Creating the dataset and loading it into batches with the DataLoader class\n",
    "dataset = CustomImageDataset(\"scene_data/train-scene classification/train.csv\", transform=transform)\n",
    "dataloader = DataLoader(dataset, batch_size=64, shuffle=True, pin_memory=True)"
   ]
  },
  {
   "cell_type": "code",
   "execution_count": null,
   "id": "296472bf",
   "metadata": {},
   "outputs": [
    {
     "data": {
      "text/plain": [
       "ViTEmbeddingNet(\n",
       "  (vit): ViTModel(\n",
       "    (embeddings): ViTEmbeddings(\n",
       "      (patch_embeddings): ViTPatchEmbeddings(\n",
       "        (projection): Conv2d(3, 768, kernel_size=(16, 16), stride=(16, 16))\n",
       "      )\n",
       "      (dropout): Dropout(p=0.0, inplace=False)\n",
       "    )\n",
       "    (encoder): ViTEncoder(\n",
       "      (layer): ModuleList(\n",
       "        (0-11): 12 x ViTLayer(\n",
       "          (attention): ViTAttention(\n",
       "            (attention): ViTSelfAttention(\n",
       "              (query): Linear(in_features=768, out_features=768, bias=True)\n",
       "              (key): Linear(in_features=768, out_features=768, bias=True)\n",
       "              (value): Linear(in_features=768, out_features=768, bias=True)\n",
       "            )\n",
       "            (output): ViTSelfOutput(\n",
       "              (dense): Linear(in_features=768, out_features=768, bias=True)\n",
       "              (dropout): Dropout(p=0.0, inplace=False)\n",
       "            )\n",
       "          )\n",
       "          (intermediate): ViTIntermediate(\n",
       "            (dense): Linear(in_features=768, out_features=3072, bias=True)\n",
       "            (intermediate_act_fn): GELUActivation()\n",
       "          )\n",
       "          (output): ViTOutput(\n",
       "            (dense): Linear(in_features=3072, out_features=768, bias=True)\n",
       "            (dropout): Dropout(p=0.0, inplace=False)\n",
       "          )\n",
       "          (layernorm_before): LayerNorm((768,), eps=1e-12, elementwise_affine=True)\n",
       "          (layernorm_after): LayerNorm((768,), eps=1e-12, elementwise_affine=True)\n",
       "        )\n",
       "      )\n",
       "    )\n",
       "    (layernorm): LayerNorm((768,), eps=1e-12, elementwise_affine=True)\n",
       "    (pooler): ViTPooler(\n",
       "      (dense): Linear(in_features=768, out_features=768, bias=True)\n",
       "      (activation): Tanh()\n",
       "    )\n",
       "  )\n",
       ")"
      ]
     },
     "execution_count": 6,
     "metadata": {},
     "output_type": "execute_result"
    }
   ],
   "source": [
    "#Instatiating encoder and loading it to chosen device\n",
    "encoder = ViTEmbeddingNet(vit)\n",
    "\n",
    "encoder.to(device) "
   ]
  },
  {
   "cell_type": "code",
   "execution_count": null,
   "id": "143e01ae",
   "metadata": {},
   "outputs": [],
   "source": [
    "#Defining optimizer, loss function, and what kind of mining to use for triplets\n",
    "optimizer = optim.Adam(encoder.parameters(), lr=1e-5)  # Smaller LR for pretrained models\n",
    "loss_func = TripletMarginLoss(margin=0.2)\n",
    "miner = TripletMarginMiner(margin=0.2, type_of_triplets=\"semihard\")"
   ]
  },
  {
   "cell_type": "code",
   "execution_count": null,
   "id": "2cb7aad3",
   "metadata": {},
   "outputs": [
    {
     "data": {
      "text/plain": [
       "ViTEmbeddingNet(\n",
       "  (vit): ViTModel(\n",
       "    (embeddings): ViTEmbeddings(\n",
       "      (patch_embeddings): ViTPatchEmbeddings(\n",
       "        (projection): Conv2d(3, 768, kernel_size=(16, 16), stride=(16, 16))\n",
       "      )\n",
       "      (dropout): Dropout(p=0.0, inplace=False)\n",
       "    )\n",
       "    (encoder): ViTEncoder(\n",
       "      (layer): ModuleList(\n",
       "        (0-11): 12 x ViTLayer(\n",
       "          (attention): ViTAttention(\n",
       "            (attention): ViTSelfAttention(\n",
       "              (query): Linear(in_features=768, out_features=768, bias=True)\n",
       "              (key): Linear(in_features=768, out_features=768, bias=True)\n",
       "              (value): Linear(in_features=768, out_features=768, bias=True)\n",
       "            )\n",
       "            (output): ViTSelfOutput(\n",
       "              (dense): Linear(in_features=768, out_features=768, bias=True)\n",
       "              (dropout): Dropout(p=0.0, inplace=False)\n",
       "            )\n",
       "          )\n",
       "          (intermediate): ViTIntermediate(\n",
       "            (dense): Linear(in_features=768, out_features=3072, bias=True)\n",
       "            (intermediate_act_fn): GELUActivation()\n",
       "          )\n",
       "          (output): ViTOutput(\n",
       "            (dense): Linear(in_features=3072, out_features=768, bias=True)\n",
       "            (dropout): Dropout(p=0.0, inplace=False)\n",
       "          )\n",
       "          (layernorm_before): LayerNorm((768,), eps=1e-12, elementwise_affine=True)\n",
       "          (layernorm_after): LayerNorm((768,), eps=1e-12, elementwise_affine=True)\n",
       "        )\n",
       "      )\n",
       "    )\n",
       "    (layernorm): LayerNorm((768,), eps=1e-12, elementwise_affine=True)\n",
       "    (pooler): ViTPooler(\n",
       "      (dense): Linear(in_features=768, out_features=768, bias=True)\n",
       "      (activation): Tanh()\n",
       "    )\n",
       "  )\n",
       ")"
      ]
     },
     "execution_count": 8,
     "metadata": {},
     "output_type": "execute_result"
    }
   ],
   "source": [
    "#This is where we would train the model (it's commented out because it takes about ~1.5 hours to run each time), just loading the weights here instead\n",
    "\"\"\"\n",
    "for images, labels in tqdm(dataloader):\n",
    "    images = images.to(device)\n",
    "    labels = labels.to(device)\n",
    "\n",
    "    embeddings = encoder(images)\n",
    "\n",
    "    # Use miner to find triplets from labels + embeddings\n",
    "    mined_triplets = miner(embeddings, labels)\n",
    "\n",
    "    # Pass embeddings, labels, and mined triplets\n",
    "    loss = loss_func(embeddings, labels, mined_triplets)\n",
    "\n",
    "    optimizer.zero_grad()\n",
    "    loss.backward()\n",
    "    optimizer.step()\n",
    "\"\"\"\n",
    "encoder.load_state_dict(torch.load('model_weights.pth', weights_only=True))\n",
    "encoder.eval()"
   ]
  },
  {
   "cell_type": "code",
   "execution_count": 9,
   "id": "52adabfc",
   "metadata": {},
   "outputs": [],
   "source": [
    "#torch.save(encoder.state_dict(), 'model_weights.pth')"
   ]
  },
  {
   "cell_type": "code",
   "execution_count": null,
   "id": "47c699f0",
   "metadata": {},
   "outputs": [],
   "source": [
    "#Get embeddings of the first batch of data\n",
    "images, labels = next(iter(dataloader))\n",
    "\n",
    "images = images.to(device)\n",
    "\n",
    "embedding = encoder(images)"
   ]
  },
  {
   "cell_type": "code",
   "execution_count": null,
   "id": "733de9bd",
   "metadata": {},
   "outputs": [],
   "source": [
    "#Use PCA to reduce data to two dimensions so that we can visualize them \n",
    "from sklearn.decomposition import PCA\n",
    "\n",
    "pca_model = PCA(n_components=2)\n",
    "\n",
    "reduced_embedding = pca_model.fit_transform(embedding.to(\"cpu\").detach().numpy())"
   ]
  },
  {
   "cell_type": "code",
   "execution_count": 12,
   "id": "357016a0",
   "metadata": {},
   "outputs": [],
   "source": [
    "labels_np = labels.detach().numpy()"
   ]
  },
  {
   "cell_type": "code",
   "execution_count": null,
   "id": "1317a6ac",
   "metadata": {},
   "outputs": [
    {
     "data": {
      "text/plain": [
       "{0: 10, 1: 8, 2: 15, 3: 11, 4: 10, 5: 10}"
      ]
     },
     "execution_count": 13,
     "metadata": {},
     "output_type": "execute_result"
    }
   ],
   "source": [
    "#Checking to see how many images there are from each class\n",
    "import numpy as np\n",
    "\n",
    "count = {}\n",
    "\n",
    "for i in range(6):\n",
    "    count[i] = reduced_embedding[np.argwhere(labels_np == i)].shape[0]\n",
    "\n",
    "count"
   ]
  },
  {
   "cell_type": "code",
   "execution_count": null,
   "id": "5746f902",
   "metadata": {},
   "outputs": [
    {
     "name": "stdout",
     "output_type": "stream",
     "text": [
      "Number of red points: 10\n",
      "Number of green points: 8\n",
      "Number of blue points: 15\n",
      "Number of orange points: 11\n",
      "Number of yellow points: 10\n",
      "Number of purple points: 10\n"
     ]
    },
    {
     "data": {
      "image/png": "[encoded data removed]",
      "text/plain": [
       "<Figure size 800x600 with 1 Axes>"
      ]
     },
     "metadata": {},
     "output_type": "display_data"
    }
   ],
   "source": [
    "#Plotting the data\n",
    "import matplotlib.pyplot as plt\n",
    "\n",
    "colors = {0 : \"red\",\n",
    "          1 : \"green\",\n",
    "          2 : \"blue\",\n",
    "          3: \"orange\",\n",
    "          4: \"yellow\",\n",
    "          5: \"purple\"}\n",
    "\n",
    "names = {0 : \"Buildings\",\n",
    "         1 : \"Forests\",\n",
    "         2: \"Mountains\",\n",
    "         3: \"Glacier\",\n",
    "         4: \"Sea\",\n",
    "         5: \"Street\"}\n",
    "\n",
    "plt.figure(figsize=(8, 6))\n",
    "\n",
    "# Plot each label's data with a specific color\n",
    "for label in np.unique(labels_np):\n",
    "    data = reduced_embedding[np.argwhere(labels_np == label)].squeeze()\n",
    "    print(f\"Number of {colors[label]} points: {data.shape[0]}\")\n",
    "    plt.scatter(data[:, 0], data[:, 1], color=colors[label], label=names[label])\n",
    "\n",
    "plt.xlabel('X-axis')\n",
    "plt.ylabel('Y-axis')\n",
    "plt.title('Scatter Plot with Different Colors per Label')\n",
    "plt.legend() # Display the legend\n",
    "plt.grid(True)\n",
    "plt.show()"
   ]
  },
  {
   "cell_type": "code",
   "execution_count": null,
   "id": "0744c8ae",
   "metadata": {},
   "outputs": [
    {
     "name": "stdout",
     "output_type": "stream",
     "text": [
      "Printing 0th slice:\n"
     ]
    }
   ],
   "source": [
    "#Doing the same thing but aggregating across three batches. Sometimes this just doesn't work; feel free to skip it. I was just curious\n",
    "import itertools\n",
    "\n",
    "embeddings = None\n",
    "labels_all = None\n",
    "\n",
    "for i in range(3):\n",
    "    print(f\"Printing {i}th slice:\")    \n",
    "    images, labels = next(itertools.islice(dataloader, i, None))\n",
    "\n",
    "    images = images.to(device)\n",
    "\n",
    "    embedding = encoder(images)\n",
    "\n",
    "    if embeddings is None:\n",
    "        embeddings = embedding\n",
    "    else:\n",
    "        embeddings = torch.cat((embeddings, embedding), dim = 0)\n",
    "\n",
    "    if labels_all is None:\n",
    "        labels_all = labels\n",
    "    else:\n",
    "        labels_all = torch.cat((labels_all, labels), dim = 0)\n",
    "\n",
    "print(embeddings.shape)"
   ]
  },
  {
   "cell_type": "code",
   "execution_count": null,
   "id": "dd07a211",
   "metadata": {},
   "outputs": [],
   "source": [
    "pca_all = PCA(n_components=2)\n",
    "\n",
    "reduced_embeddings = pca_all.fit_transform(embeddings.to(\"cpu\").detach().numpy())"
   ]
  },
  {
   "cell_type": "code",
   "execution_count": null,
   "id": "42fecc77",
   "metadata": {},
   "outputs": [],
   "source": [
    "labels_np_all = labels_all.detach().numpy()"
   ]
  },
  {
   "cell_type": "code",
   "execution_count": null,
   "id": "6ac098cf",
   "metadata": {},
   "outputs": [
    {
     "data": {
      "text/plain": [
       "{0: 34, 1: 31, 2: 34, 3: 31, 4: 36, 5: 26}"
      ]
     },
     "execution_count": 18,
     "metadata": {},
     "output_type": "execute_result"
    }
   ],
   "source": [
    "count_all = {}\n",
    "\n",
    "for i in range(6):\n",
    "    count_all[i] = reduced_embeddings[np.argwhere(labels_np_all == i)].shape[0]\n",
    "\n",
    "count_all"
   ]
  },
  {
   "cell_type": "code",
   "execution_count": null,
   "id": "be2eda3a",
   "metadata": {},
   "outputs": [
    {
     "name": "stdout",
     "output_type": "stream",
     "text": [
      "Number of red points: 34\n",
      "Number of green points: 31\n",
      "Number of blue points: 34\n",
      "Number of orange points: 31\n",
      "Number of yellow points: 36\n",
      "Number of purple points: 26\n"
     ]
    },
    {
     "data": {
      "image/png": "[encoded data removed]",
      "text/plain": [
       "<Figure size 800x600 with 1 Axes>"
      ]
     },
     "metadata": {},
     "output_type": "display_data"
    }
   ],
   "source": [
    "plt.figure(figsize=(8, 6))\n",
    "\n",
    "# Plot each label's data with a specific color\n",
    "for label in np.unique(labels_np_all):\n",
    "    data = reduced_embeddings[np.argwhere(labels_np_all == label)].squeeze()\n",
    "    print(f\"Number of {colors[label]} points: {data.shape[0]}\")\n",
    "    plt.scatter(data[:, 0], data[:, 1], color=colors[label], label=names[label])\n",
    "\n",
    "plt.xlabel('X-axis')\n",
    "plt.ylabel('Y-axis')\n",
    "plt.title('Scatter Plot with Different Colors per Label')\n",
    "plt.legend() # Display the legend\n",
    "plt.grid(True)\n",
    "plt.show()"
   ]
  },
  {
   "cell_type": "code",
   "execution_count": null,
   "id": "436c2fef",
   "metadata": {},
   "outputs": [],
   "source": [
    "images_list = pd.read_csv(\"scene_data/train-scene classification/train.csv\")\n",
    "\n",
    "images_dir = \"scene_data/train-scene classification/train/\""
   ]
  },
  {
   "cell_type": "code",
   "execution_count": null,
   "id": "b9da15d0",
   "metadata": {},
   "outputs": [],
   "source": [
    "image_path = images_list[images_list['label'] == 4].sample(1)['image_name'].iloc[0]\n",
    "\n",
    "image = Image.open(images_dir + image_path).convert('RGB').resize((300,300))"
   ]
  },
  {
   "cell_type": "code",
   "execution_count": null,
   "id": "44c2fd44",
   "metadata": {},
   "outputs": [
    {
     "data": {
      "text/plain": [
       "array([0, 4, 5, 1, 2, 3])"
      ]
     },
     "execution_count": 67,
     "metadata": {},
     "output_type": "execute_result"
    }
   ],
   "source": [
    "images_list['label'].unique()"
   ]
  },
  {
   "cell_type": "code",
   "execution_count": null,
   "id": "953c4137",
   "metadata": {},
   "outputs": [],
   "source": []
  }
 ],
 "metadata": {
  "kernelspec": {
   "display_name": "vision_models",
   "language": "python",
   "name": "python3"
  },
  "language_info": {
   "codemirror_mode": {
    "name": "ipython",
    "version": 3
   },
   "file_extension": ".py",
   "mimetype": "text/x-python",
   "name": "python",
   "nbconvert_exporter": "python",
   "pygments_lexer": "ipython3",
   "version": "3.12.11"
  }
 },
 "nbformat": 4,
 "nbformat_minor": 5
}
